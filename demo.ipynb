{
 "cells": [
  {
   "cell_type": "markdown",
   "id": "28c6cc96",
   "metadata": {},
   "source": [
    "# AutoFPR: Symbolic Floating-Point Precision Optimizer\n",
    "\n",
    "This notebook demonstrates the use of AutoFPR—a symbolic reasoning tool that checks whether numerical computations meet specified accuracy targets under different floating-point precision levels (16-bit, 32-bit, 64-bit).\n",
    "\n",
    "The tool uses the Z3 SMT solver to model possible rounding errors symbolically and determine whether the target error tolerance is satisfied."
   ]
  },
  {
   "cell_type": "code",
   "execution_count": 1,
   "id": "59cc243d",
   "metadata": {},
   "outputs": [
    {
     "name": "stdout",
     "output_type": "stream",
     "text": [
      "Requirement already satisfied: z3-solver in c:\\users\\hp\\appdata\\local\\packages\\pythonsoftwarefoundation.python.3.9_qbz5n2kfra8p0\\localcache\\local-packages\\python39\\site-packages (4.15.1.0)\n",
      "Requirement already satisfied: sympy in c:\\users\\hp\\appdata\\local\\packages\\pythonsoftwarefoundation.python.3.9_qbz5n2kfra8p0\\localcache\\local-packages\\python39\\site-packages (1.13.1)\n",
      "Requirement already satisfied: numpy in c:\\users\\hp\\appdata\\local\\packages\\pythonsoftwarefoundation.python.3.9_qbz5n2kfra8p0\\localcache\\local-packages\\python39\\site-packages (2.0.2)\n",
      "Requirement already satisfied: mpmath<1.4,>=1.1.0 in c:\\users\\hp\\appdata\\local\\packages\\pythonsoftwarefoundation.python.3.9_qbz5n2kfra8p0\\localcache\\local-packages\\python39\\site-packages (from sympy) (1.3.0)\n"
     ]
    }
   ],
   "source": [
    "!pip install z3-solver sympy numpy"
   ]
  },
  {
   "cell_type": "code",
   "execution_count": 2,
   "id": "48a20230",
   "metadata": {},
   "outputs": [],
   "source": [
    "from auto_fpr import check_precision"
   ]
  },
  {
   "cell_type": "code",
   "execution_count": 3,
   "id": "85ab7110",
   "metadata": {},
   "outputs": [
    {
     "name": "stdout",
     "output_type": "stream",
     "text": [
      "Precision 16-bit is sufficient for relative error 0.01.\n"
     ]
    },
    {
     "data": {
      "text/plain": [
       "True"
      ]
     },
     "execution_count": 3,
     "metadata": {},
     "output_type": "execute_result"
    }
   ],
   "source": [
    "# Check for 16-bit precision with loose tolerance\n",
    "check_precision(target_relative_error=1e-2, precision_bits=16)"
   ]
  },
  {
   "cell_type": "code",
   "execution_count": 5,
   "id": "19368ca1",
   "metadata": {},
   "outputs": [
    {
     "name": "stdout",
     "output_type": "stream",
     "text": [
      "Precision 32-bit is sufficient for relative error 1e-05.\n"
     ]
    },
    {
     "data": {
      "text/plain": [
       "True"
      ]
     },
     "execution_count": 5,
     "metadata": {},
     "output_type": "execute_result"
    }
   ],
   "source": [
    "# Check for 32-bit precision with medium tolerance\n",
    "check_precision(target_relative_error=1e-5, precision_bits=32)"
   ]
  },
  {
   "cell_type": "code",
   "execution_count": 6,
   "id": "4ae90131",
   "metadata": {},
   "outputs": [
    {
     "name": "stdout",
     "output_type": "stream",
     "text": [
      "Precision 64-bit is sufficient for relative error 1e-12.\n"
     ]
    },
    {
     "data": {
      "text/plain": [
       "True"
      ]
     },
     "execution_count": 6,
     "metadata": {},
     "output_type": "execute_result"
    }
   ],
   "source": [
    "# Check for 64-bit precision with very strict tolerance\n",
    "check_precision(target_relative_error=1e-12, precision_bits=64)"
   ]
  },
  {
   "cell_type": "code",
   "execution_count": null,
   "id": "04893c3c",
   "metadata": {},
   "outputs": [
    {
     "name": "stdout",
     "output_type": "stream",
     "text": [
      "Precision 16-bit is sufficient for relative error 0.01.\n",
      "Precision 32-bit is sufficient for relative error 1e-05.\n",
      "Precision 64-bit is sufficient for relative error 1e-12.\n"
     ]
    },
    {
     "data": {
      "text/plain": [
       "True"
      ]
     },
     "execution_count": 7,
     "metadata": {},
     "output_type": "execute_result"
    }
   ],
   "source": [
    "check_precision(target_relative_error=1e-2, precision_bits=16)\n",
    "check_precision(target_relative_error=1e-5, precision_bits=32)\n",
    "check_precision(target_relative_error=1e-12, precision_bits=64)"
   ]
  },
  {
   "cell_type": "code",
   "execution_count": 10,
   "id": "73844296",
   "metadata": {},
   "outputs": [
    {
     "name": "stdout",
     "output_type": "stream",
     "text": [
      "Precision 16-bit is NOT sufficient for relative error 0.001. Failed at x = -9.3939 with relative error 1.47e-03\n"
     ]
    },
    {
     "data": {
      "text/plain": [
       "False"
      ]
     },
     "execution_count": 10,
     "metadata": {},
     "output_type": "execute_result"
    }
   ],
   "source": [
    "check_precision(target_relative_error=1e-3, precision_bits=16)"
   ]
  },
  {
   "cell_type": "code",
   "execution_count": 12,
   "id": "560436b2",
   "metadata": {},
   "outputs": [
    {
     "name": "stdout",
     "output_type": "stream",
     "text": [
      "Precision 16-bit is NOT sufficient for relative error 0.0001. Failed at x = -9.5960 with relative error 4.95e-04\n"
     ]
    },
    {
     "data": {
      "text/plain": [
       "False"
      ]
     },
     "execution_count": 12,
     "metadata": {},
     "output_type": "execute_result"
    }
   ],
   "source": [
    "check_precision(target_relative_error=1e-4, precision_bits=16)"
   ]
  },
  {
   "cell_type": "code",
   "execution_count": 11,
   "id": "7d3fdd38",
   "metadata": {},
   "outputs": [
    {
     "name": "stdout",
     "output_type": "stream",
     "text": [
      "Precision 16-bit is sufficient for relative error 0.01.\n",
      "Precision 32-bit is sufficient for relative error 1e-05.\n",
      "Precision 64-bit is sufficient for relative error 1e-12.\n"
     ]
    },
    {
     "data": {
      "text/plain": [
       "True"
      ]
     },
     "execution_count": 11,
     "metadata": {},
     "output_type": "execute_result"
    }
   ],
   "source": [
    "check_precision(1e-2, 16)\n",
    "check_precision(1e-5, 32)\n",
    "check_precision(1e-12, 64)"
   ]
  },
  {
   "cell_type": "markdown",
   "id": "e3b2b445",
   "metadata": {},
   "source": [
    "## Conclusion\n",
    "\n",
    "This notebook demonstrates the use of AutoFPR for evaluating the sufficiency of different floating-point precision levels based on relative error analysis.\n",
    "\n",
    "Through the tested examples, we observe that:\n",
    "- Lower precisions (such as float16) can be sufficient when the required accuracy is relaxed (e.g., 1% relative error).\n",
    "- Tighter accuracy requirements naturally demand higher precisions (float32 or float64), which the tool correctly identifies.\n",
    "- The framework can also detect cases where a chosen precision is insufficient, providing actionable feedback for precision selection.\n",
    "\n",
    "AutoFPR highlights the importance of balancing computational efficiency and numerical reliability. Rather than relying on arbitrary choices of precision, this approach offers a systematic, quantitative method for determining the minimum precision required to meet accuracy goals for any numerical function.\n",
    "\n",
    "The current version uses sampling-based analysis but can be extended to more rigorous symbolic or formal methods in future work. This tool serves as a foundational step toward precision-aware computing in scientific software, financial models, and safety-critical applications."
   ]
  }
 ],
 "metadata": {
  "kernelspec": {
   "display_name": "Python 3",
   "language": "python",
   "name": "python3"
  },
  "language_info": {
   "codemirror_mode": {
    "name": "ipython",
    "version": 3
   },
   "file_extension": ".py",
   "mimetype": "text/x-python",
   "name": "python",
   "nbconvert_exporter": "python",
   "pygments_lexer": "ipython3",
   "version": "3.9.13"
  }
 },
 "nbformat": 4,
 "nbformat_minor": 5
}
